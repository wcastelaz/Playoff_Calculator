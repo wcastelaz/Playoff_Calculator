{
 "cells": [
  {
   "cell_type": "code",
   "execution_count": 1,
   "id": "actual-kenya",
   "metadata": {},
   "outputs": [],
   "source": [
    "import numpy as np # for creating probability ranges and calculating how many games needed to win a series\n",
    "\n",
    "import math # for multiplying the probabilities of winning individual series by each other\n",
    "\n",
    "from scipy.special import comb as choose # for nCr combination calculations\n",
    "\n",
    "import pandas as pd # for dataframe operations\n",
    "\n",
    "import matplotlib.pyplot as plt # for graphing results"
   ]
  },
  {
   "cell_type": "markdown",
   "id": "swedish-submission",
   "metadata": {},
   "source": [
    "# Simplest Model: Assume Constant Probability of Winning Each Game "
   ]
  },
  {
   "cell_type": "markdown",
   "id": "confident-insulation",
   "metadata": {},
   "source": [
    "* Let's assume the probability of winning each playoff game is the same\n",
    "    * And let's assume it's 50% for now"
   ]
  },
  {
   "cell_type": "code",
   "execution_count": 2,
   "id": "rough-accountability",
   "metadata": {},
   "outputs": [],
   "source": [
    "# single game win probability\n",
    "\n",
    "win_probability = 0.5"
   ]
  },
  {
   "cell_type": "markdown",
   "id": "inside-premiere",
   "metadata": {},
   "source": [
    "* Now let's define a function which calculates the probability that an **NFL** team will win the playoffs\n",
    "    * Each 'series' is just one game, so this is simply the probability of winning a single game, to the power of the number of games.\n",
    "    * Division winners play 3 rounds, wild-card teams have to play 4 rounds"
   ]
  },
  {
   "cell_type": "code",
   "execution_count": 3,
   "id": "authentic-christopher",
   "metadata": {},
   "outputs": [],
   "source": [
    "def nfl_playoffs(win_probability, wild_card = False):\n",
    "    if wild_card == False:\n",
    "        prob = win_probability**3\n",
    "    else:\n",
    "        prob = win_probability**4\n",
    "    return prob"
   ]
  },
  {
   "cell_type": "code",
   "execution_count": 4,
   "id": "invisible-completion",
   "metadata": {},
   "outputs": [
    {
     "name": "stdout",
     "output_type": "stream",
     "text": [
      "Wild Card Team: 0.0625\n",
      "Non-Wild Card Team: 0.125\n"
     ]
    }
   ],
   "source": [
    "print(f'Wild Card Team: {nfl_playoffs(win_probability, True)}')\n",
    "print(f'Non-Wild Card Team: {nfl_playoffs(win_probability)}')"
   ]
  },
  {
   "cell_type": "markdown",
   "id": "legal-medline",
   "metadata": {},
   "source": [
    "* In this simplified model, **Wild Card** teams have a 0.0625 probability to win the championship. **Non-Wild Card** teams have a 0.125 probability of winning the championship."
   ]
  },
  {
   "cell_type": "markdown",
   "id": "numeric-driving",
   "metadata": {},
   "source": [
    "### Let's compare this with the NBA\n",
    "\n",
    "* In the NBA Playoffs, each series is best-of-7, and teams need to win 4 consecutive series to become champion\n",
    "    * First, how can we calculate whether a team will win a single best-of-7 series?\n",
    "        * To do this, we'll use a Negative Binomial probability.\n",
    "        * With Negative Binomial (*x*, *r*, *p*) probability, we are calculating the probability that it will take us *x* trials to achieve *r* successes, with the *rth* success occurring on the *xth* trial; given *p* as the probability of success, and 1-*p* as the probability of failure on each individual trial\n",
    "        \n",
    "#### Let's try an example"
   ]
  },
  {
   "cell_type": "code",
   "execution_count": 5,
   "id": "statewide-thomson",
   "metadata": {},
   "outputs": [],
   "source": [
    "def negative_binomial(x, r, p):\n",
    "    prob_x = choose((x-1), (r-1)) * p**r * (1-p)**(x-r)\n",
    "    return prob_x"
   ]
  },
  {
   "cell_type": "code",
   "execution_count": 6,
   "id": "hundred-horror",
   "metadata": {},
   "outputs": [
    {
     "data": {
      "text/plain": [
       "0.125"
      ]
     },
     "execution_count": 6,
     "metadata": {},
     "output_type": "execute_result"
    }
   ],
   "source": [
    "negative_binomial(5, 4, win_probability)"
   ]
  },
  {
   "cell_type": "markdown",
   "id": "rough-ethernet",
   "metadata": {},
   "source": [
    "* The above function calculated that a team with a 50% chance of winning each game would have a 0.125 probability of winning a first-to-4 series in exactly 5 games.\n",
    "    * The intuition behind the equation is as follows:\n",
    "        * We need the probability of 4 wins, which is the probability *p* of one win, raised to the power of 4\n",
    "        * multiplied by the probability of 1 loss\n",
    "        * multiplied by the number of combinations of 3 wins in the first 4 games\n",
    "    * Generalized, we get the probability of *r* wins, equal to *p* to the power of *r*\n",
    "    * multiplied by the probability of *x*-*r* losses, equal to (1-*p*) raised to the power of (*x* - *r*)\n",
    "    * multiplied by (*x*-1) Choose (*r*-1)"
   ]
  },
  {
   "cell_type": "markdown",
   "id": "miniature-atlanta",
   "metadata": {},
   "source": [
    "#### Next, we'll calculate the probability that a team wins a best-of-x series\n",
    "* To do this, we just have to identify all series-winning outcomes (win in 4, win in 5, 6, 7, etc.)\n",
    "* calculate the probability of each outcome\n",
    "* and add the probabilities together\n"
   ]
  },
  {
   "cell_type": "code",
   "execution_count": 7,
   "id": "technological-gentleman",
   "metadata": {},
   "outputs": [],
   "source": [
    "def single_series(bestof, win_probability):\n",
    "    \n",
    "    # calculate wins needed by dividing max length of series by 2, then rounding up\n",
    "    wins_needed = np.ceil((bestof/2))\n",
    "    \n",
    "    # Create a list of probabilities corresponding to all series-winning outcomes\n",
    "    sum_list = []\n",
    "    for i in np.arange(wins_needed, (bestof+1)):\n",
    "        sum_list.append(negative_binomial(i, wins_needed, win_probability))\n",
    "    # Add probabilities together\n",
    "    total_prob = np.sum(sum_list)\n",
    "    return total_prob\n",
    "    "
   ]
  },
  {
   "cell_type": "markdown",
   "id": "aboriginal-gather",
   "metadata": {},
   "source": [
    "#### We can see that a team with a 50% probability of winning each game has a 50% chance of winning a 7 game series. This makes sense!"
   ]
  },
  {
   "cell_type": "code",
   "execution_count": 8,
   "id": "southeast-paper",
   "metadata": {},
   "outputs": [
    {
     "data": {
      "text/plain": [
       "0.5"
      ]
     },
     "execution_count": 8,
     "metadata": {},
     "output_type": "execute_result"
    }
   ],
   "source": [
    "single_series(7, win_probability)"
   ]
  },
  {
   "cell_type": "markdown",
   "id": "textile-drinking",
   "metadata": {},
   "source": [
    "#### Now let's define a function that calculates the probability that a team wins the entire playoffs\n",
    "\n",
    "* All we have to do is calculate the probability of winning each series\n",
    "* and multiply those probabilities together\n",
    "* We'll give the user the option to set different series lengths, so that we can model different playoff formats - so technically, we could model the NFL playoffs using this function too."
   ]
  },
  {
   "cell_type": "code",
   "execution_count": 9,
   "id": "celtic-clark",
   "metadata": {},
   "outputs": [],
   "source": [
    "def nba_playoffs(win_probability, customize = False):\n",
    "    # default assumes 4 series, each best-of-7\n",
    "    if customize == False:\n",
    "        prob = single_series(7, win_probability)**4\n",
    "        return prob\n",
    "    else:\n",
    "    # Alternatively, the series lengths can be entered as comma-separated lists\n",
    "        series_list = input('Enter comma-separated list of series lengths (max_games): ')\n",
    "    # The following code parses integer lengths from the inputted string,  \n",
    "    # and creates a new list of the probabilities of winning each individual series\n",
    "\n",
    "        new_list = series_list.split(sep=',')\n",
    "\n",
    "\n",
    "        mult_list = []\n",
    "        for i in new_list:\n",
    "            single = single_series(int(i), win_probability)\n",
    "            mult_list.append(single)\n",
    "            \n",
    "    # now we just have to multiply the probabilities together\n",
    "\n",
    "        prob = math.prod(mult_list)\n",
    "        return prob"
   ]
  },
  {
   "cell_type": "markdown",
   "id": "turned-professor",
   "metadata": {},
   "source": [
    "### To this point, we've been using a single game win probability of 50%. But what if we want to calculate based on a different single game win probability?\n",
    "* We could change the ```win_probability``` variable\n",
    "* Or we could calculate based on a range of possible variables, which would allow us to analyze how changes in the probability of winning each game affects the likelihood of winning the entire playoffs."
   ]
  },
  {
   "cell_type": "code",
   "execution_count": 10,
   "id": "specific-legislature",
   "metadata": {},
   "outputs": [],
   "source": [
    "# create a Series (dataframe column) comprised of a range from 0.01 to 0.99\n",
    "win_prob_range = pd.Series(np.arange(0.01, 1, 0.01))"
   ]
  },
  {
   "cell_type": "code",
   "execution_count": 11,
   "id": "beautiful-korea",
   "metadata": {},
   "outputs": [
    {
     "name": "stderr",
     "output_type": "stream",
     "text": [
      "C:\\Users\\Wally\\anaconda3\\envs\\WebScrape\\lib\\site-packages\\pandas\\core\\indexing.py:1637: SettingWithCopyWarning: \n",
      "A value is trying to be set on a copy of a slice from a DataFrame\n",
      "\n",
      "See the caveats in the documentation: https://pandas.pydata.org/pandas-docs/stable/user_guide/indexing.html#returning-a-view-versus-a-copy\n",
      "  self._setitem_single_block(indexer, value, name)\n"
     ]
    }
   ],
   "source": [
    "# create a dataframe of the probability of winning the playoffs,\n",
    "# given single game win probability, for NBA and NFL teams (Wildcard/No Wildcard)\n",
    "winprob_df = pd.DataFrame({'Prob(Single Game)': win_prob_range})\n",
    "\n",
    "winprob_df['NFL WildCard'] = nfl_playoffs(winprob_df['Prob(Single Game)'], True)\n",
    "\n",
    "winprob_df['NFL No WC'] = nfl_playoffs(winprob_df['Prob(Single Game)'])\n",
    "\n",
    "winprob_df['NBA'] = 0\n",
    "\n",
    "for i in winprob_df.index:\n",
    "    winprob_df['NBA'].loc[i] = nba_playoffs(winprob_df['Prob(Single Game)'][i])"
   ]
  },
  {
   "cell_type": "markdown",
   "id": "smooth-presence",
   "metadata": {},
   "source": [
    "### Plotting the data"
   ]
  },
  {
   "cell_type": "code",
   "execution_count": 12,
   "id": "organized-ethiopia",
   "metadata": {},
   "outputs": [
    {
     "data": {
      "image/png": "[encoded data removed]",
      "text/plain": [
       "<Figure size 432x288 with 1 Axes>"
      ]
     },
     "metadata": {
      "needs_background": "light"
     },
     "output_type": "display_data"
    }
   ],
   "source": [
    "%matplotlib inline\n",
    "plt.plot(winprob_df['Prob(Single Game)'], winprob_df['NFL WildCard'], label='NFL WildCard')\n",
    "plt.plot(winprob_df['Prob(Single Game)'], winprob_df['NFL No WC'], label='NFL No WildCard')\n",
    "plt.plot(winprob_df['Prob(Single Game)'], winprob_df['NBA'], label='NBA')\n",
    "plt.title('Is it Harder to win NBA or NFL Playoffs?')\n",
    "plt.xlabel('Probability of winning each game')\n",
    "plt.ylabel('Probability of winning playoffs')\n",
    "plt.xticks(np.arange(0.1, 1, 0.1))\n",
    "plt.yticks(np.arange(0.1, 1, 0.1))\n",
    "plt.legend()\n",
    "plt.show()"
   ]
  },
  {
   "cell_type": "markdown",
   "id": "common-mention",
   "metadata": {},
   "source": [
    "### That's a pretty interesting visualization\n",
    "\n",
    "* NFL teams see their chances of winning the playoffs increase exponentially as their probability of winning each game increases. For NBA teams, the corresponding increase follows more of a sigmoid function (think logistic regression)\n",
    "* The likelihood of an NBA team winning 4 consecutive series, given a 50% chance of winning each game, is 6.25%, identical to that of an NFL team winning 4 consecutive games (Wild Card through Super Bowl) given the same 50% chance of winning each game.\n",
    "* Underdogs - teams with less than 50% chance of winning each individual game - are more likely to go all the way in the NFL playoffs than in the NBA playoffs. It is easier to beat the odds over 4 consecutive games, than over 4 consecutive 7 game series.\n",
    "* By the same token, favorites - teams with greater than 50% chance of winning each individual game - are more likely to win the NBA Finals than the Super Bowl.\n",
    "* This analysis we've done so far does a good job describing how the different playoff formats for the NBA and NFL affect championship probabilities, independently of team/opponent quality (expressed by probability of winning each single game)\n",
    "* However, what if we don't think that a constant probability of winning each game is realistic? \n",
    "* Let's allow for changing win probabilities "
   ]
  },
  {
   "cell_type": "markdown",
   "id": "engaged-fortune",
   "metadata": {},
   "source": [
    "#### Let's define a function ```playoffs_2```, which allows users to input the single-game win probability for each series\n",
    "* Playoff opponents tend to get progressively better, and our calculations should reflect that\n",
    "    * For example, you could have 4 best-of-7 series, where the probability of winning each game is 0.75 for the first series, and 0.5 subsequently"
   ]
  },
  {
   "cell_type": "code",
   "execution_count": 13,
   "id": "trained-covering",
   "metadata": {},
   "outputs": [],
   "source": [
    "def playoffs_2(customize = True, win_probability=win_probability):\n",
    "    # If no parameters passed, this is simply nba_playoffs(win_probability)\n",
    "    if customize == False:\n",
    "        prob = single_series(7, win_probability)**4\n",
    "        return prob\n",
    "    else:\n",
    "    # Alternatively, the series lengths can be entered as comma-separated lists\n",
    "        series_list = input('Enter comma-separated list of series lengths (max games): ')\n",
    "    # The single-game win probabilities for each series can be entered similarly\n",
    "        win_prob_list = input('Enter comma-separated list of single-game win prob for each series: ')\n",
    "    # The following code parses integer lengths from the inputted strings,  \n",
    "        new_list = series_list.split(sep=',')\n",
    "        new_prob_list = win_prob_list.split(sep=',')\n",
    "    # This loop creates a list of probabilities to win each series\n",
    "\n",
    "        mult_list = []\n",
    "        count = 0\n",
    "        for i in new_list:\n",
    "            single = single_series(int(new_list[count]), float(new_prob_list[count]))\n",
    "            mult_list.append(single)\n",
    "            count += 1\n",
    "            \n",
    "    # now we just have to multiply the probabilities together\n",
    "\n",
    "        prob = math.prod(mult_list)\n",
    "        return prob"
   ]
  },
  {
   "cell_type": "markdown",
   "id": "superior-teacher",
   "metadata": {},
   "source": [
    "#### Let's do some more NBA/NFL comparisons\n",
    "\n",
    "* Let's say single-game win probability decreases from 0.75 in the first round, to 0.5 in all rounds thereafter.\n",
    "    * We can compare the probability of winning all four rounds if they are 7 game series (NBA), or 1 game series (NFL)"
   ]
  },
  {
   "cell_type": "code",
   "execution_count": 14,
   "id": "toxic-positive",
   "metadata": {},
   "outputs": [
    {
     "name": "stdin",
     "output_type": "stream",
     "text": [
      "Enter comma-separated list of series lengths (max games):  7,7,7,7\n",
      "Enter comma-separated list of single-game win prob for each series:  .75,.5,.5,.5\n"
     ]
    },
    {
     "data": {
      "text/plain": [
       "0.116180419921875"
      ]
     },
     "execution_count": 14,
     "metadata": {},
     "output_type": "execute_result"
    }
   ],
   "source": [
    "# NBA\n",
    "playoffs_2(True)"
   ]
  },
  {
   "cell_type": "code",
   "execution_count": 15,
   "id": "differential-thermal",
   "metadata": {},
   "outputs": [
    {
     "name": "stdin",
     "output_type": "stream",
     "text": [
      "Enter comma-separated list of series lengths (max games):  1,1,1,1\n",
      "Enter comma-separated list of single-game win prob for each series:  .75,.5,.5,.5\n"
     ]
    },
    {
     "data": {
      "text/plain": [
       "0.09375"
      ]
     },
     "execution_count": 15,
     "metadata": {},
     "output_type": "execute_result"
    }
   ],
   "source": [
    "# NFL\n",
    "playoffs_2(True)"
   ]
  },
  {
   "cell_type": "markdown",
   "id": "british-rubber",
   "metadata": {},
   "source": [
    "#### In this scenario, the NBA team is more likely than the NFL team to win their respective playoffs.\n",
    "* This makes sense! Earlier we noted how favorites (above 0.5 single game win probability) were better off in the NBA format than in the NFL format\n",
    "    * The NBA team in this scenario is therefore likelier than the NFL team to advance past the first round, while being equally likely to win the subsequent rounds"
   ]
  },
  {
   "cell_type": "markdown",
   "id": "alive-gender",
   "metadata": {},
   "source": [
    "### Let's make one final calculator function, ```playoffs_3```\n",
    "\n",
    "* What if we know that we want single-game win probability to increase or decrease with each round, but we don't want to manually enter each round's corresponding probability?\n",
    "    * This function allows users to set a single-game win probability for the first round, as well as one for the final round. \n",
    "    * With each round, the single-game win probability will trend toward the final round probability, either linearly or exponentially"
   ]
  },
  {
   "cell_type": "code",
   "execution_count": 16,
   "id": "comprehensive-traveler",
   "metadata": {},
   "outputs": [],
   "source": [
    "def playoffs_3(start_prob, end_prob, chng_function='linear'):\n",
    "    # The series lengths are entered as a comma-separated list\n",
    "    series_list = input('Enter comma-separated list of series lengths (max games): ')\n",
    "    # The following code parses integer lengths from the inputted strin  \n",
    "    new_list = series_list.split(sep=',')\n",
    "    \n",
    "    # This variable represents the number of times the single-game win probability will change\n",
    "    chng_count = -1\n",
    "    for i in new_list:\n",
    "        chng_count += 1\n",
    "    \n",
    "    # An empty list, which will be populated by the win probabilities of each round  \n",
    "    win_prob_list = []\n",
    "    \n",
    "    \n",
    "    if chng_function == 'linear':\n",
    "        \n",
    "        # calculate the linear change in probability for each increment\n",
    "        diff = end_prob - start_prob\n",
    "        delta = diff/chng_count\n",
    "        \n",
    "        prob = start_prob\n",
    "        \n",
    "        # populate the win probability list\n",
    "        empty_count = 0\n",
    "        while empty_count <= chng_count:\n",
    "            win_prob_list.append(prob)\n",
    "            prob = prob + delta\n",
    "            empty_count += 1\n",
    "        \n",
    "        # create a list comprised of probabilities to win each series\n",
    "        mult_list = []\n",
    "        count = 0\n",
    "        for i in new_list:\n",
    "            single = single_series(int(new_list[count]), float(win_prob_list[count]))\n",
    "            mult_list.append(single)\n",
    "            count += 1\n",
    "\n",
    "        # now we just have to multiply the probabilities together\n",
    "\n",
    "        final_prob = math.prod(mult_list)\n",
    "            \n",
    "        return final_prob\n",
    "    \n",
    "    elif chng_function == 'exponential':\n",
    "        \n",
    "        # calculates the percentage change for each increment\n",
    "        change = (end_prob/start_prob)**(1/chng_count)\n",
    "       \n",
    "        prob = start_prob\n",
    "        # populate the win probability list\n",
    "        empty_count = 0\n",
    "        while empty_count <= chng_count:\n",
    "            win_prob_list.append(prob)\n",
    "            prob = prob*change\n",
    "            empty_count += 1\n",
    "       \n",
    "        # create a list comprised of probabilities to win each series    \n",
    "        mult_list = []\n",
    "        count = 0\n",
    "        for i in new_list:\n",
    "            single = single_series(int(new_list[count]), float(win_prob_list[count]))\n",
    "            mult_list.append(single)\n",
    "            count += 1\n",
    "\n",
    "        # now we just have to multiply the probabilities together\n",
    "\n",
    "        final_prob = math.prod(mult_list)\n",
    "            \n",
    "        return final_prob\n",
    "    "
   ]
  },
  {
   "cell_type": "markdown",
   "id": "unnecessary-speech",
   "metadata": {},
   "source": [
    "#### Let's make a couple final comparisons\n",
    "* First, we'll look at a 'contender', who are heavy favorites in the first round, and a tossup in the final round"
   ]
  },
  {
   "cell_type": "code",
   "execution_count": 17,
   "id": "alternate-metadata",
   "metadata": {},
   "outputs": [
    {
     "name": "stdin",
     "output_type": "stream",
     "text": [
      "Enter comma-separated list of series lengths (max games):  7,7,7,7\n"
     ]
    },
    {
     "data": {
      "text/plain": [
       "0.2999998648009361"
      ]
     },
     "execution_count": 17,
     "metadata": {},
     "output_type": "execute_result"
    }
   ],
   "source": [
    "# NBA format, single game win prob decreasing linearly from 0.8 to 0.5\n",
    "playoffs_3(start_prob=0.8, end_prob=0.5, chng_function='linear')"
   ]
  },
  {
   "cell_type": "code",
   "execution_count": 18,
   "id": "starting-minutes",
   "metadata": {},
   "outputs": [
    {
     "name": "stdin",
     "output_type": "stream",
     "text": [
      "Enter comma-separated list of series lengths (max games):  7,7,7,7\n"
     ]
    },
    {
     "data": {
      "text/plain": [
       "0.2802160867809368"
      ]
     },
     "execution_count": 18,
     "metadata": {},
     "output_type": "execute_result"
    }
   ],
   "source": [
    "# NBA format, single game win prob decreasing exponentially from 0.8 to 0.5\n",
    "playoffs_3(start_prob=0.8, end_prob=0.5, chng_function='exponential')"
   ]
  },
  {
   "cell_type": "code",
   "execution_count": 19,
   "id": "integrated-timer",
   "metadata": {},
   "outputs": [
    {
     "name": "stdin",
     "output_type": "stream",
     "text": [
      "Enter comma-separated list of series lengths (max games):  1,1,1,1\n"
     ]
    },
    {
     "data": {
      "text/plain": [
       "0.16800000000000007"
      ]
     },
     "execution_count": 19,
     "metadata": {},
     "output_type": "execute_result"
    }
   ],
   "source": [
    "# NFL format, single game win prob decreasing linearly from 0.8 to 0.5\n",
    "playoffs_3(start_prob=0.8, end_prob=0.5, chng_function='linear')"
   ]
  },
  {
   "cell_type": "code",
   "execution_count": 20,
   "id": "primary-failure",
   "metadata": {},
   "outputs": [
    {
     "name": "stdin",
     "output_type": "stream",
     "text": [
      "Enter comma-separated list of series lengths (max games):  1,1,1,1\n"
     ]
    },
    {
     "data": {
      "text/plain": [
       "0.16000000000000011"
      ]
     },
     "execution_count": 20,
     "metadata": {},
     "output_type": "execute_result"
    }
   ],
   "source": [
    "# NFL format, single game win prob decreasing exponentially from 0.8 to 0.5\n",
    "\n",
    "playoffs_3(start_prob=0.8, end_prob=0.5, chng_function='exponential')"
   ]
  },
  {
   "cell_type": "markdown",
   "id": "permanent-uncertainty",
   "metadata": {},
   "source": [
    "* Now let's look at a dark horse, favored slightly in the first round, and an underdog in the finals"
   ]
  },
  {
   "cell_type": "code",
   "execution_count": 21,
   "id": "circular-gnome",
   "metadata": {},
   "outputs": [
    {
     "name": "stdin",
     "output_type": "stream",
     "text": [
      "Enter comma-separated list of series lengths (max games):  7,7,7,7\n"
     ]
    },
    {
     "data": {
      "text/plain": [
       "0.012969898221109255"
      ]
     },
     "execution_count": 21,
     "metadata": {},
     "output_type": "execute_result"
    }
   ],
   "source": [
    "# NBA format, single game win prob decreasing linearly from 0.6 to 0.3\n",
    "playoffs_3(start_prob=0.6, end_prob=0.3, chng_function='linear')"
   ]
  },
  {
   "cell_type": "code",
   "execution_count": 22,
   "id": "collected-trauma",
   "metadata": {},
   "outputs": [
    {
     "name": "stdin",
     "output_type": "stream",
     "text": [
      "Enter comma-separated list of series lengths (max games):  7,7,7,7\n"
     ]
    },
    {
     "data": {
      "text/plain": [
       "0.009963811100117136"
      ]
     },
     "execution_count": 22,
     "metadata": {},
     "output_type": "execute_result"
    }
   ],
   "source": [
    "# NBA format, single game win prob decreasing exponentially from 0.6 to 0.3\n",
    "playoffs_3(start_prob=0.6, end_prob=0.3, chng_function='exponential')"
   ]
  },
  {
   "cell_type": "code",
   "execution_count": 23,
   "id": "processed-farming",
   "metadata": {},
   "outputs": [
    {
     "name": "stdin",
     "output_type": "stream",
     "text": [
      "Enter comma-separated list of series lengths (max games):  1,1,1,1\n"
     ]
    },
    {
     "data": {
      "text/plain": [
       "0.036000000000000004"
      ]
     },
     "execution_count": 23,
     "metadata": {},
     "output_type": "execute_result"
    }
   ],
   "source": [
    "# NFL format, single game win prob decreasing linearly from 0.6 to 0.3\n",
    "playoffs_3(start_prob=0.6, end_prob=0.3, chng_function='linear')"
   ]
  },
  {
   "cell_type": "code",
   "execution_count": 24,
   "id": "pleasant-pittsburgh",
   "metadata": {},
   "outputs": [
    {
     "name": "stdin",
     "output_type": "stream",
     "text": [
      "Enter comma-separated list of series lengths (max games):  1,1,1,1\n"
     ]
    },
    {
     "data": {
      "text/plain": [
       "0.032400000000000005"
      ]
     },
     "execution_count": 24,
     "metadata": {},
     "output_type": "execute_result"
    }
   ],
   "source": [
    "# NFL format, single game win prob decreasing linearly from 0.6 to 0.3\n",
    "playoffs_3(start_prob=0.6, end_prob=0.3, chng_function='exponential')"
   ]
  },
  {
   "cell_type": "markdown",
   "id": "enclosed-native",
   "metadata": {},
   "source": [
    "# Feel free to try your own combinations!\n",
    "\n",
    "* Try calculating probabilities for March Madness, or the MLB Playoffs, etc."
   ]
  },
  {
   "cell_type": "code",
   "execution_count": null,
   "id": "demographic-secret",
   "metadata": {},
   "outputs": [],
   "source": []
  }
 ],
 "metadata": {
  "kernelspec": {
   "display_name": "Python 3",
   "language": "python",
   "name": "python3"
  },
  "language_info": {
   "codemirror_mode": {
    "name": "ipython",
    "version": 3
   },
   "file_extension": ".py",
   "mimetype": "text/x-python",
   "name": "python",
   "nbconvert_exporter": "python",
   "pygments_lexer": "ipython3",
   "version": "3.9.2"
  }
 },
 "nbformat": 4,
 "nbformat_minor": 5
}
